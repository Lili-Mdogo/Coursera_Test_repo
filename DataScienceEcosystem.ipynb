{
 "cells": [
  {
   "cell_type": "markdown",
   "id": "d9100fd7-28a7-4dc7-872f-eb21d5c87463",
   "metadata": {},
   "source": [
    "# Data Science Tools and Ecosystem"
   ]
  },
  {
   "cell_type": "markdown",
   "id": "85c6a372-8dc1-4abf-88f7-efb10890c71d",
   "metadata": {},
   "source": [
    "##### In this notebook, Data Science Tools and Ecosystem are summarised"
   ]
  },
  {
   "cell_type": "markdown",
   "id": "2e8e2821-8612-45e4-873a-53a6c3a2315c",
   "metadata": {},
   "source": [
    "##### *Objectives:* <br> <br> - Data Science Languages <br> - Data Science Libraries <br> - Python Expressions"
   ]
  },
  {
   "cell_type": "markdown",
   "id": "c6eff03a-6d42-4a12-b2d0-59ae1a22a7a7",
   "metadata": {},
   "source": [
    "###### Some of the popular languages that Data Scientists use are: <br> <br> 1. Python <br> 2. SQL <br> 3. Java"
   ]
  },
  {
   "cell_type": "markdown",
   "id": "0eeccf14-309e-4138-a9ca-41ec2ec69601",
   "metadata": {},
   "source": [
    "###### Some of the commonly used libraries used by Data Scientists include: <br> <br> 1. NumPy <br> 2. matplotlib <br> 3. ggplot2"
   ]
  },
  {
   "cell_type": "markdown",
   "id": "655faf02-13d3-4830-889f-87949c78a92a",
   "metadata": {},
   "source": [
    "|Data Science Tools|\n",
    "| :- |\n",
    "|RStudio|\n",
    "|Jupyter Notebook|\n",
    "|Rodeo|"
   ]
  },
  {
   "cell_type": "markdown",
   "id": "56aa1cce-6d44-4d67-b02a-ff941116bad5",
   "metadata": {},
   "source": [
    "### Below are a few examples of evaluating arithmetic expressions in Python"
   ]
  },
  {
   "cell_type": "code",
   "execution_count": 5,
   "id": "355ecdb0-db9e-4794-9bf7-7a45fcbea041",
   "metadata": {
    "tags": []
   },
   "outputs": [
    {
     "data": {
      "text/plain": [
       "17"
      ]
     },
     "execution_count": 5,
     "metadata": {},
     "output_type": "execute_result"
    }
   ],
   "source": [
    "# This a simple arithmetic expression to mutiply then add integers\n",
    "\n",
    "(3*4)+5"
   ]
  },
  {
   "cell_type": "code",
   "execution_count": 6,
   "id": "dd077c4e-b5d4-445e-9d6f-632aecba3ea8",
   "metadata": {
    "tags": []
   },
   "outputs": [
    {
     "data": {
      "text/plain": [
       "3"
      ]
     },
     "execution_count": 6,
     "metadata": {},
     "output_type": "execute_result"
    }
   ],
   "source": [
    "# This will convert 200 minutes to hours by dividing by 60\n",
    "\n",
    "200 // 60"
   ]
  },
  {
   "cell_type": "markdown",
   "id": "59dd0f36-270d-48bb-947b-40d4deed6044",
   "metadata": {},
   "source": [
    "## Author <br> \n",
    "Lilian Haymann"
   ]
  },
  {
   "cell_type": "code",
   "execution_count": null,
   "id": "86fea996-573f-4c88-a277-5d884e0bf2bc",
   "metadata": {},
   "outputs": [],
   "source": []
  }
 ],
 "metadata": {
  "kernelspec": {
   "display_name": "Python",
   "language": "python",
   "name": "conda-env-python-py"
  },
  "language_info": {
   "codemirror_mode": {
    "name": "ipython",
    "version": 3
   },
   "file_extension": ".py",
   "mimetype": "text/x-python",
   "name": "python",
   "nbconvert_exporter": "python",
   "pygments_lexer": "ipython3",
   "version": "3.7.12"
  }
 },
 "nbformat": 4,
 "nbformat_minor": 5
}
